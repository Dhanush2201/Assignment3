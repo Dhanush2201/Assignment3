{
 "cells": [
  {
   "cell_type": "code",
   "execution_count": 3,
   "metadata": {},
   "outputs": [
    {
     "name": "stdout",
     "output_type": "stream",
     "text": [
      "value of A 4\n",
      "value of B 2\n",
      "value of C 6\n",
      "C is greater\n"
     ]
    }
   ],
   "source": [
    "A=int(input('value of A '))\n",
    "B=int(input('value of B '))\n",
    "C=int(input('value of C '))\n",
    "if A>B and A>C:\n",
    "    print('A is greater')\n",
    "else:\n",
    "    if B>C:\n",
    "         print('B is greater')\n",
    "    else:\n",
    "         print('C is greater')"
   ]
  },
  {
   "cell_type": "code",
   "execution_count": null,
   "metadata": {},
   "outputs": [],
   "source": []
  }
 ],
 "metadata": {
  "kernelspec": {
   "display_name": "Python 3",
   "language": "python",
   "name": "python3"
  },
  "language_info": {
   "codemirror_mode": {
    "name": "ipython",
    "version": 3
   },
   "file_extension": ".py",
   "mimetype": "text/x-python",
   "name": "python",
   "nbconvert_exporter": "python",
   "pygments_lexer": "ipython3",
   "version": "3.7.6"
  }
 },
 "nbformat": 4,
 "nbformat_minor": 4
}

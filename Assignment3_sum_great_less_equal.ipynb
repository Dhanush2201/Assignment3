{
 "cells": [
  {
   "cell_type": "code",
   "execution_count": 5,
   "metadata": {},
   "outputs": [
    {
     "name": "stdout",
     "output_type": "stream",
     "text": [
      "value 1: 3\n",
      "value 2: 1\n",
      "sum is less than 5\n"
     ]
    }
   ],
   "source": [
    "a=int(input('value 1: '))\n",
    "b=int(input('value 2: '))\n",
    "c=a+b\n",
    "if c>5:\n",
    "    print('sum is greater than 5')\n",
    "else:\n",
    "    if c<5:\n",
    "        print('sum is less than 5')\n",
    "    else:\n",
    "        print('sum is equal to 5')"
   ]
  },
  {
   "cell_type": "code",
   "execution_count": null,
   "metadata": {},
   "outputs": [],
   "source": []
  }
 ],
 "metadata": {
  "kernelspec": {
   "display_name": "Python 3",
   "language": "python",
   "name": "python3"
  },
  "language_info": {
   "codemirror_mode": {
    "name": "ipython",
    "version": 3
   },
   "file_extension": ".py",
   "mimetype": "text/x-python",
   "name": "python",
   "nbconvert_exporter": "python",
   "pygments_lexer": "ipython3",
   "version": "3.7.6"
  }
 },
 "nbformat": 4,
 "nbformat_minor": 4
}

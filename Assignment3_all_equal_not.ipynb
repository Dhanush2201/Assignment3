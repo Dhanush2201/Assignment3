{
 "cells": [
  {
   "cell_type": "code",
   "execution_count": 3,
   "metadata": {},
   "outputs": [
    {
     "name": "stdout",
     "output_type": "stream",
     "text": [
      "value of a 3\n",
      "value of b 3\n",
      "value of c 3\n",
      "all values are equal\n"
     ]
    }
   ],
   "source": [
    "a=int(input(\"value of a \"))\n",
    "b=int(input(\"value of b \"))\n",
    "c=int(input(\"value of c \"))\n",
    "if a==b and b==c and c==a:\n",
    "    print('all values are equal')\n",
    "elif a==b or b==c or c==a:\n",
    "    print('any two values are equal')"
   ]
  },
  {
   "cell_type": "code",
   "execution_count": null,
   "metadata": {},
   "outputs": [],
   "source": []
  }
 ],
 "metadata": {
  "kernelspec": {
   "display_name": "Python 3",
   "language": "python",
   "name": "python3"
  }
 },
 "nbformat": 4,
 "nbformat_minor": 4
}

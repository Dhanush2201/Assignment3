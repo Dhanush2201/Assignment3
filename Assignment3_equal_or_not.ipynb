{
 "cells": [
  {
   "cell_type": "code",
   "execution_count": 7,
   "metadata": {},
   "outputs": [
    {
     "name": "stdout",
     "output_type": "stream",
     "text": [
      "value of a 4\n",
      "value of a 4\n",
      "Both values are equal\n"
     ]
    }
   ],
   "source": [
    "a=int(input(\"value of a \")) \n",
    "b=int(input(\"value of a \"))\n",
    "if a==b:\n",
    "    print('Both values are equal')\n",
    "else:\n",
    "    print('values are not equal')"
   ]
  },
  {
   "cell_type": "code",
   "execution_count": null,
   "metadata": {},
   "outputs": [],
   "source": []
  }
 ],
 "metadata": {
  "kernelspec": {
   "display_name": "Python 3",
   "language": "python",
   "name": "python3"
  },
  "language_info": {
   "codemirror_mode": {
    "name": "ipython",
    "version": 3
   },
   "file_extension": ".py",
   "mimetype": "text/x-python",
   "name": "python",
   "nbconvert_exporter": "python",
   "pygments_lexer": "ipython3",
   "version": "3.7.6"
  }
 },
 "nbformat": 4,
 "nbformat_minor": 4
}
